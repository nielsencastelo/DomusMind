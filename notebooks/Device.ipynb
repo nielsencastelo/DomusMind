{
 "cells": [
  {
   "cell_type": "markdown",
   "id": "62a5e573",
   "metadata": {},
   "source": [
    "# Enviar comando VIA HACS (Sonoff)"
   ]
  },
  {
   "cell_type": "code",
   "execution_count": null,
   "id": "41951609",
   "metadata": {},
   "outputs": [],
   "source": [
    "import requests\n",
    "from dotenv import load_dotenv\n",
    "import os\n",
    "\n",
    "load_dotenv()\n",
    "\n",
    "HASS_URL = \"http://localhost:8123\"\n",
    "TOKEN = os.getenv(\"TOKEN\")\n",
    "HEADERS = {\n",
    "    \"Authorization\": f\"Bearer {TOKEN}\",\n",
    "    \"Content-Type\": \"application/json\",\n",
    "}\n",
    "\n",
    "def toggle_switch(entity_id: str, turn_on=True):\n",
    "    service = \"turn_on\" if turn_on else \"turn_off\"\n",
    "    url = f\"{HASS_URL}/api/services/switch/{service}\"\n",
    "    payload = {\"entity_id\": entity_id}\n",
    "    response = requests.post(url, headers=HEADERS, json=payload)\n",
    "    return response.ok, response.text"
   ]
  },
  {
   "cell_type": "code",
   "execution_count": null,
   "id": "91c5a7dc",
   "metadata": {},
   "outputs": [],
   "source": [
    "\n",
    "ok, resp = toggle_switch(\"switch.sonoff_10013abe9c_1\", turn_on=True)\n",
    "print(\"Ligado com sucesso?\" if ok else \"Erro:\", resp)"
   ]
  },
  {
   "cell_type": "code",
   "execution_count": null,
   "id": "e4eb0f3a",
   "metadata": {},
   "outputs": [],
   "source": [
    "import os\n",
    "import requests\n",
    "\n",
    "# Recomendado: armazene o token no ambiente ou .env\n",
    "HASS_URL = \"http://localhost:8123\"    # ou o IP da máquina se estiver em rede\n",
    "\n",
    "headers = {\n",
    "    \"Authorization\": f\"Bearer {TOKEN}\",\n",
    "    \"Content-Type\": \"application/json\"\n",
    "}\n",
    "\n",
    "response = requests.get(f\"{HASS_URL}/api/states\", headers=headers)\n",
    "\n",
    "if response.status_code == 200:\n",
    "    devices = response.json()\n",
    "    for device in devices:\n",
    "        print(f\"{device['entity_id']} → {device['state']}\")\n",
    "else:\n",
    "    print(\"Erro:\", response.status_code, response.text)\n"
   ]
  },
  {
   "cell_type": "markdown",
   "id": "86275719",
   "metadata": {},
   "source": [
    "# Teste versão no app"
   ]
  },
  {
   "cell_type": "code",
   "execution_count": 2,
   "id": "014cad4e",
   "metadata": {},
   "outputs": [],
   "source": [
    "import warnings\n",
    "warnings.filterwarnings(\"ignore\")\n",
    "import sys\n",
    "import os\n",
    "sys.path.append('..') # Sob 1 níveis para apontar o path"
   ]
  },
  {
   "cell_type": "code",
   "execution_count": 7,
   "id": "9bce13f8",
   "metadata": {},
   "outputs": [
    {
     "name": "stdout",
     "output_type": "stream",
     "text": [
      "Luz do 'escritorio' desligada com sucesso.\n"
     ]
    }
   ],
   "source": [
    "from app.utils.home_assistant import toggle_light\n",
    "\n",
    "ok, message = toggle_light(\"escritorio\", turn_on=False)\n",
    "print(message)\n"
   ]
  }
 ],
 "metadata": {
  "kernelspec": {
   "display_name": "GPU_Toch",
   "language": "python",
   "name": "python3"
  },
  "language_info": {
   "codemirror_mode": {
    "name": "ipython",
    "version": 3
   },
   "file_extension": ".py",
   "mimetype": "text/x-python",
   "name": "python",
   "nbconvert_exporter": "python",
   "pygments_lexer": "ipython3",
   "version": "3.10.15"
  }
 },
 "nbformat": 4,
 "nbformat_minor": 5
}
