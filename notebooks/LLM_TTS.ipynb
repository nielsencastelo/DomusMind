{
 "cells": [
  {
   "cell_type": "code",
   "execution_count": null,
   "id": "3e32cdae",
   "metadata": {},
   "outputs": [],
   "source": [
    "import sys\n",
    "import os\n",
    "import io\n",
    "import scipy.io.wavfile\n",
    "sys.path.append(os.path.abspath(\"..\"))\n",
    "from app.llm_agent import interpretar_comando\n",
    "from app.utils.voz_utils import falar_texto\n",
    "from IPython.display import Audio\n",
    "from langchain_core.messages import AIMessage, HumanMessage"
   ]
  },
  {
   "cell_type": "code",
   "execution_count": null,
   "id": "791bf983",
   "metadata": {},
   "outputs": [],
   "source": [
    "modelos_disponiveis = [\"Llama 3.2\", \"phi4\", \"gemma3:27b\"]\n",
    "escolha = 1  "
   ]
  },
  {
   "cell_type": "code",
   "execution_count": null,
   "id": "24bab3c7",
   "metadata": {},
   "outputs": [],
   "source": [
    "# Definição do modelo escolhido (fixo para simplificação)\n",
    "modelos_disponiveis = [\"Llama 3.2\", \"phi4\", \"gemma3:27b\"]\n",
    "escolha = 1  # Índice do modelo desejado\n",
    "objetos =  [\"sofá\", \"mesa\"]\n",
    "comodo = \"sala\"\n",
    "\n",
    "# Seleção do modelo de IA\n",
    "modelo_escolhido = modelos_disponiveis[escolha - 1] if 0 < escolha <= len(modelos_disponiveis) else \"phi4\"\n",
    "print(f\"\\n✅ Modelo selecionado: {modelo_escolhido}\")\n",
    "\n",
    "# Histórico de chat inicial\n",
    "chat_history = [\n",
    "    AIMessage(content=\"Olá, eu sou seu Coca: seu agent inteligente! Como posso ajudar você hoje?\")\n",
    "]\n",
    "\n",
    "# Exemplo de interação\n",
    "user_query = \"Pode ligar as luzes da sala, por favor?\"\n",
    "chat_history.append(HumanMessage(content=user_query))\n",
    "\n",
    "# Gerar resposta\n",
    "response = interpretar_comando(user_query, chat_history, modelo_escolhido, comodo, objetos)\n",
    "\n",
    "# Exibir resultado\n",
    "print(\"\\n🤖 IA está processando a resposta...\\n\")\n",
    "print(f\"Assistente: {response}\")\n",
    "\n",
    "# Atualizar histórico de chat\n",
    "chat_history.append(AIMessage(content=response))"
   ]
  },
  {
   "cell_type": "code",
   "execution_count": null,
   "id": "25895ea2",
   "metadata": {},
   "outputs": [],
   "source": [
    "audio_int16, model = falar_texto(response)\n",
    "\n",
    "buffer = io.BytesIO()\n",
    "scipy.io.wavfile.write(buffer, rate=model.config.sampling_rate, data=audio_int16)\n",
    "buffer.seek(0)\n",
    "\n",
    "Audio(buffer.read(), rate=model.config.sampling_rate)"
   ]
  }
 ],
 "metadata": {
  "kernelspec": {
   "display_name": "LLM",
   "language": "python",
   "name": "python3"
  },
  "language_info": {
   "codemirror_mode": {
    "name": "ipython",
    "version": 3
   },
   "file_extension": ".py",
   "mimetype": "text/x-python",
   "name": "python",
   "nbconvert_exporter": "python",
   "pygments_lexer": "ipython3",
   "version": "3.12.9"
  }
 },
 "nbformat": 4,
 "nbformat_minor": 5
}
