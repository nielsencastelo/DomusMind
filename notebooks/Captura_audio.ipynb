{
 "cells": [
  {
   "cell_type": "code",
   "execution_count": null,
   "id": "187c695c",
   "metadata": {},
   "outputs": [],
   "source": [
    "# ! pip install sounddevice "
   ]
  },
  {
   "cell_type": "code",
   "execution_count": null,
   "id": "2e83c36a",
   "metadata": {},
   "outputs": [],
   "source": [
    "import torch\n",
    "import sounddevice as sd\n",
    "from transformers import WhisperProcessor, WhisperForConditionalGeneration\n",
    "import numpy as np\n",
    "import scipy.signal\n",
    "\n",
    "# Carrega o modelo e o processador\n",
    "model_id = \"freds0/distil-whisper-large-v3-ptbr\"\n",
    "processor = WhisperProcessor.from_pretrained(model_id)\n",
    "model = WhisperForConditionalGeneration.from_pretrained(model_id)\n",
    "model.eval()"
   ]
  },
  {
   "cell_type": "code",
   "execution_count": 4,
   "id": "78994874",
   "metadata": {},
   "outputs": [],
   "source": [
    "# ! pip install faster-whisper\n"
   ]
  },
  {
   "cell_type": "code",
   "execution_count": null,
   "id": "6b67cbfd",
   "metadata": {},
   "outputs": [
    {
     "name": "stderr",
     "output_type": "stream",
     "text": [
      "c:\\Users\\nielsen.castelo\\AppData\\Local\\anaconda3\\envs\\GPU_Toch\\lib\\site-packages\\huggingface_hub\\file_download.py:139: UserWarning: `huggingface_hub` cache-system uses symlinks by default to efficiently store duplicated files but your machine does not support them in C:\\Users\\nielsen.castelo\\.cache\\huggingface\\hub\\models--Systran--faster-whisper-medium. Caching files will still work but in a degraded version that might require more space on your disk. This warning can be disabled by setting the `HF_HUB_DISABLE_SYMLINKS_WARNING` environment variable. For more details, see https://huggingface.co/docs/huggingface_hub/how-to-cache#limitations.\n",
      "To support symlinks on Windows, you either need to activate Developer Mode or to run Python as an administrator. In order to activate developer mode, see this article: https://docs.microsoft.com/en-us/windows/apps/get-started/enable-your-device-for-development\n",
      "  warnings.warn(message)\n"
     ]
    }
   ],
   "source": [
    "from faster_whisper import WhisperModel\n",
    "\n",
    "model = WhisperModel(\"medium\")"
   ]
  },
  {
   "cell_type": "code",
   "execution_count": null,
   "id": "dde06b60",
   "metadata": {},
   "outputs": [],
   "source": [
    "from faster_whisper import WhisperModel\n",
    "import sounddevice as sd\n",
    "import numpy as np\n",
    "import tempfile\n",
    "import scipy.io.wavfile\n",
    "\n",
    "# Parâmetros de gravação\n",
    "duration = 5  # segundos\n",
    "sample_rate = 16000\n",
    "\n",
    "print(\"🎙️ Gravando áudio...\")\n",
    "audio = sd.rec(int(duration * sample_rate), samplerate=sample_rate, channels=1, dtype='float32')\n",
    "sd.wait()\n",
    "print(\"✅ Gravação concluída.\")\n",
    "\n",
    "# Salva o áudio temporariamente como WAV\n",
    "audio = np.squeeze(audio)\n",
    "audio_int16 = (audio * 32767).astype(np.int16)\n",
    "\n",
    "with tempfile.NamedTemporaryFile(suffix=\".wav\", delete=False) as tmp:\n",
    "    scipy.io.wavfile.write(tmp.name, sample_rate, audio_int16)\n",
    "    audio_path = tmp.name\n",
    "\n",
    "# Carrega o modelo (você pode usar \"base\", \"small\", \"medium\", \"large-v2\", etc)\n",
    "model = WhisperModel(\"medium\", compute_type=\"float32\", device=\"cpu\")  # ou device=\"cuda\"\n",
    "\n",
    "# Transcrição\n",
    "segments, info = model.transcribe(audio_path, language=\"pt\")\n",
    "\n",
    "print(f\"\\n📝 Transcrição (detected language: {info.language})\")\n",
    "for segment in segments:\n",
    "    print(f\"[{segment.start:.2f}s - {segment.end:.2f}s] {segment.text}\")\n"
   ]
  }
 ],
 "metadata": {
  "kernelspec": {
   "display_name": "GPU_Toch",
   "language": "python",
   "name": "python3"
  },
  "language_info": {
   "codemirror_mode": {
    "name": "ipython",
    "version": 3
   },
   "file_extension": ".py",
   "mimetype": "text/x-python",
   "name": "python",
   "nbconvert_exporter": "python",
   "pygments_lexer": "ipython3",
   "version": "3.10.15"
  }
 },
 "nbformat": 4,
 "nbformat_minor": 5
}
