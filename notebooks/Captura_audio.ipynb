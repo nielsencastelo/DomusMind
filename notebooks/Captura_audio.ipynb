{
 "cells": [
  {
   "cell_type": "code",
   "execution_count": null,
   "id": "187c695c",
   "metadata": {},
   "outputs": [],
   "source": [
    "# ! pip install sounddevice "
   ]
  },
  {
   "cell_type": "code",
   "execution_count": null,
   "id": "2e83c36a",
   "metadata": {},
   "outputs": [],
   "source": [
    "import torch\n",
    "import sounddevice as sd\n",
    "from transformers import WhisperProcessor, WhisperForConditionalGeneration\n",
    "import numpy as np\n",
    "import scipy.signal\n",
    "\n",
    "# Carrega o modelo e o processador\n",
    "model_id = \"freds0/distil-whisper-large-v3-ptbr\"\n",
    "processor = WhisperProcessor.from_pretrained(model_id)\n",
    "model = WhisperForConditionalGeneration.from_pretrained(model_id)\n",
    "model.eval()"
   ]
  },
  {
   "cell_type": "code",
   "execution_count": null,
   "id": "78994874",
   "metadata": {},
   "outputs": [],
   "source": [
    "! pip install faster-whisper\n"
   ]
  },
  {
   "cell_type": "code",
   "execution_count": 2,
   "id": "6b67cbfd",
   "metadata": {},
   "outputs": [
    {
     "ename": "ModuleNotFoundError",
     "evalue": "No module named 'faster_whisper'",
     "output_type": "error",
     "traceback": [
      "\u001b[1;31m---------------------------------------------------------------------------\u001b[0m",
      "\u001b[1;31mModuleNotFoundError\u001b[0m                       Traceback (most recent call last)",
      "Cell \u001b[1;32mIn[2], line 1\u001b[0m\n\u001b[1;32m----> 1\u001b[0m \u001b[38;5;28;01mfrom\u001b[39;00m \u001b[38;5;21;01mfaster_whisper\u001b[39;00m \u001b[38;5;28;01mimport\u001b[39;00m WhisperModel\n",
      "\u001b[1;31mModuleNotFoundError\u001b[0m: No module named 'faster_whisper'"
     ]
    }
   ],
   "source": [
    "from faster_whisper import WhisperModel"
   ]
  }
 ],
 "metadata": {
  "kernelspec": {
   "display_name": "GPU_Toch",
   "language": "python",
   "name": "python3"
  },
  "language_info": {
   "codemirror_mode": {
    "name": "ipython",
    "version": 3
   },
   "file_extension": ".py",
   "mimetype": "text/x-python",
   "name": "python",
   "nbconvert_exporter": "python",
   "pygments_lexer": "ipython3",
   "version": "3.10.15"
  }
 },
 "nbformat": 4,
 "nbformat_minor": 5
}
