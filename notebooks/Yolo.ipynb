{
 "cells": [
  {
   "cell_type": "markdown",
   "id": "84676d84",
   "metadata": {},
   "source": [
    "# Visão Computacional com YOLOv8"
   ]
  },
  {
   "cell_type": "code",
   "execution_count": null,
   "id": "242912b8",
   "metadata": {},
   "outputs": [],
   "source": [
    "from ultralytics import YOLO\n",
    "import cv2\n",
    "\n",
    "model = YOLO(\"yolov8n.pt\")\n",
    "\n",
    "def detectar_objetos(frame):\n",
    "    results = model(frame)\n",
    "    return results[0].names, results[0].boxes\n",
    "\n",
    "cap = cv2.VideoCapture(0)\n",
    "ret, frame = cap.read()\n",
    "cap.release()\n",
    "\n",
    "classes, boxes = detectar_objetos(frame)\n",
    "print(\"Objetos detectados:\", classes)\n"
   ]
  }
 ],
 "metadata": {
  "kernelspec": {
   "display_name": "LLM",
   "language": "python",
   "name": "python3"
  },
  "language_info": {
   "name": "python",
   "version": "3.12.5"
  }
 },
 "nbformat": 4,
 "nbformat_minor": 5
}
