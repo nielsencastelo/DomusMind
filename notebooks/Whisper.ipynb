{
 "cells": [
  {
   "cell_type": "markdown",
   "id": "34bbc471",
   "metadata": {},
   "source": [
    "# Módulos do Sistema Captura e Transcrição de Voz (Whisper)"
   ]
  },
  {
   "cell_type": "code",
   "execution_count": null,
   "id": "6a1fa38f",
   "metadata": {},
   "outputs": [],
   "source": [
    "from faster_whisper import WhisperModel\n",
    "import sounddevice as sd\n",
    "import numpy as np\n",
    "import tempfile\n",
    "import scipy.io.wavfile\n",
    "\n",
    "model = WhisperModel(\"base\")\n",
    "\n",
    "def gravar_audio(segundos=5, fs=16000):\n",
    "    audio = sd.rec(int(segundos * fs), samplerate=fs, channels=1, dtype='int16')\n",
    "    sd.wait()\n",
    "    return audio.squeeze()\n",
    "\n",
    "def transcrever(audio_data, fs=16000):\n",
    "    with tempfile.NamedTemporaryFile(suffix=\".wav\", delete=False) as tmp:\n",
    "        scipy.io.wavfile.write(tmp.name, fs, audio_data)\n",
    "        segments, _ = model.transcribe(tmp.name)\n",
    "        return \" \".join([seg.text for seg in segments])\n",
    "\n",
    "audio = gravar_audio()\n",
    "comando_texto = transcrever(audio)\n",
    "print(\"Transcrição:\", comando_texto)\n"
   ]
  }
 ],
 "metadata": {
  "kernelspec": {
   "display_name": "LLM",
   "language": "python",
   "name": "python3"
  },
  "language_info": {
   "name": "python",
   "version": "3.12.5"
  }
 },
 "nbformat": 4,
 "nbformat_minor": 5
}
