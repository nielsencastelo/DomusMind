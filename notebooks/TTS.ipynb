{
 "cells": [
  {
   "cell_type": "markdown",
   "id": "6110bf87",
   "metadata": {},
   "source": [
    "#  TTS da Coqui (Python puro)"
   ]
  },
  {
   "cell_type": "code",
   "execution_count": null,
   "id": "2b8a1aa8",
   "metadata": {},
   "outputs": [],
   "source": [
    "from TTS.api import TTS\n",
    "\n",
    "tts = TTS(model_name=\"tts_models/pt/cv/vits\", progress_bar=False, gpu=False)\n",
    "tts.tts_to_file(text=\"Bem-vindo à sua casa inteligente\", file_path=\"voz.wav\")\n"
   ]
  },
  {
   "cell_type": "code",
   "execution_count": null,
   "id": "277fd44e",
   "metadata": {},
   "outputs": [],
   "source": [
    "from gtts import gTTS\n",
    "import os\n",
    "\n",
    "tts = gTTS(\"Bem-vindo à sua casa inteligente\", lang='pt')\n",
    "tts.save(\"voz.mp3\")\n",
    "os.system(\"mpg123 voz.mp3\")  # ou use playsound\n"
   ]
  }
 ],
 "metadata": {
  "kernelspec": {
   "display_name": "LLM",
   "language": "python",
   "name": "python3"
  },
  "language_info": {
   "name": "python",
   "version": "3.12.5"
  }
 },
 "nbformat": 4,
 "nbformat_minor": 5
}
