{
 "cells": [
  {
   "cell_type": "markdown",
   "id": "62a5e573",
   "metadata": {},
   "source": [
    "# Enviar comando para MQTT (Home Assistant, Arduino etc)"
   ]
  },
  {
   "cell_type": "code",
   "execution_count": null,
   "id": "7033c1f2",
   "metadata": {},
   "outputs": [],
   "source": [
    "import paho.mqtt.client as mqtt\n",
    "\n",
    "client = mqtt.Client()\n",
    "client.connect(\"localhost\", 1883)\n",
    "\n",
    "def enviar_acao(topico, comando):\n",
    "    client.publish(topico, comando)\n"
   ]
  }
 ],
 "metadata": {
  "kernelspec": {
   "display_name": "LLM",
   "language": "python",
   "name": "python3"
  },
  "language_info": {
   "name": "python",
   "version": "3.12.5"
  }
 },
 "nbformat": 4,
 "nbformat_minor": 5
}
