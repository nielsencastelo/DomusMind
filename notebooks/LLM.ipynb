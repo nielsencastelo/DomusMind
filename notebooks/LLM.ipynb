{
 "cells": [
  {
   "cell_type": "markdown",
   "id": "935d967f",
   "metadata": {},
   "source": [
    "# Integração com LLM"
   ]
  },
  {
   "cell_type": "code",
   "execution_count": 1,
   "id": "00335d62",
   "metadata": {},
   "outputs": [],
   "source": [
    "from openai import OpenAI\n",
    "\n",
    "client = OpenAI(api_key=\"SUA_CHAVE_API\")\n",
    "\n",
    "def interpretar_comando(texto, contexto_visao):\n",
    "    prompt = f\"\"\"\n",
    "    Você é um assistente residencial. Um morador disse: \"{texto}\".\n",
    "    A câmera detectou: {contexto_visao}.\n",
    "    O que você deve fazer? Liste as ações no formato JSON.\n",
    "    \"\"\"\n",
    "    resposta = client.chat.completions.create(\n",
    "        messages=[{\"role\": \"user\", \"content\": prompt}],\n",
    "        model=\"gpt-4\"\n",
    "    )\n",
    "    return resposta.choices[0].message.content\n"
   ]
  }
 ],
 "metadata": {
  "kernelspec": {
   "display_name": "LLM",
   "language": "python",
   "name": "python3"
  },
  "language_info": {
   "codemirror_mode": {
    "name": "ipython",
    "version": 3
   },
   "file_extension": ".py",
   "mimetype": "text/x-python",
   "name": "python",
   "nbconvert_exporter": "python",
   "pygments_lexer": "ipython3",
   "version": "3.12.5"
  }
 },
 "nbformat": 4,
 "nbformat_minor": 5
}
