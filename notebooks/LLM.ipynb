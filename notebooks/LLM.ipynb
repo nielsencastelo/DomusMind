{
 "cells": [
  {
   "cell_type": "markdown",
   "id": "935d967f",
   "metadata": {},
   "source": [
    "# Integração com LLM"
   ]
  },
  {
   "cell_type": "code",
   "execution_count": 1,
   "id": "00335d62",
   "metadata": {},
   "outputs": [],
   "source": [
    "from langchain_core.messages import AIMessage, HumanMessage\n",
    "from langchain_ollama import ChatOllama\n",
    "from langchain_core.output_parsers import StrOutputParser\n",
    "from langchain_core.prompts import ChatPromptTemplate, MessagesPlaceholder\n",
    "\n",
    "# ------------------------------ Configuração do Modelo ------------------------------\n",
    "def model_ollama(model, temperature=0.1):\n",
    "    \"\"\"Retorna uma instância do modelo LLM especificado.\"\"\"\n",
    "    return ChatOllama(model=model.lower().replace(\" \", \"\"), temperature=temperature)\n",
    "\n",
    "def model_response(user_query, chat_history, model_name):\n",
    "    \"\"\"Gera uma resposta baseada na interação do usuário com o modelo de IA.\"\"\"\n",
    "    try:\n",
    "        llm = model_ollama(model_name)\n",
    "\n",
    "        system_prompt = \"\"\"\n",
    "            Você é um assistente inteligente para automação residencial.\n",
    "            Utilize raciocínio estruturado seguindo o método cadeia de pensamento (chain-of-thought):\n",
    "\n",
    "            1. Compreenda claramente o comando do usuário.\n",
    "            2. Identifique qual ação deve ser executada (ligar dispositivo, informar status, alterar configuração).\n",
    "            3. Se o usuário quiser conversar seja simples e direto nas respostas.\n",
    "            4. Execute (simule) a ação solicitada.\n",
    "            5. Confirme a execução ou forneça a informação solicitada ao usuário de forma clara e amigável.\n",
    "\n",
    "            Sempre responda com linguagem simples e amigável, adequada para uma conversa casual dentro de casa.\n",
    "            Não mencione sua análise ou interpretação ao usuário, apenas confirme diretamente a execução da ação.\n",
    "        \"\"\"\n",
    "\n",
    "        prompt_template = ChatPromptTemplate.from_messages([\n",
    "            (\"system\", system_prompt),\n",
    "            MessagesPlaceholder(variable_name=\"chat_history\"),\n",
    "            (\"user\", \"{input}\")\n",
    "        ])\n",
    "\n",
    "        chain = prompt_template | llm | StrOutputParser()\n",
    "\n",
    "        return chain.invoke({\n",
    "            \"chat_history\": chat_history,\n",
    "            \"input\": user_query\n",
    "        })\n",
    "\n",
    "    except Exception:\n",
    "        return \"❌ Desculpe, não consegui entender ou realizar essa ação. Por favor, tente novamente.\"\n",
    "\n"
   ]
  },
  {
   "cell_type": "markdown",
   "id": "facb120e",
   "metadata": {},
   "source": [
    "## ------------------------------ Simulação de Interação ------------------------------"
   ]
  },
  {
   "cell_type": "code",
   "execution_count": 4,
   "id": "4ff9f666",
   "metadata": {},
   "outputs": [
    {
     "name": "stdout",
     "output_type": "stream",
     "text": [
      "\n",
      "✅ Modelo selecionado: Llama 3.2\n",
      "\n",
      "🤖 IA está processando a resposta...\n",
      "\n",
      "Assistente: Sim, posso fazer isso!\n",
      "\n",
      "Ligando as luzes da sala... OK, feito! As luzes estão agora acesas.\n"
     ]
    }
   ],
   "source": [
    "# Definição do modelo escolhido (fixo para simplificação)\n",
    "modelos_disponiveis = [\"Llama 3.2\", \"phi4\", \"gemma3:27b\"]\n",
    "escolha = 0  # Índice do modelo desejado\n",
    "\n",
    "# Seleção do modelo de IA\n",
    "modelo_escolhido = modelos_disponiveis[escolha] #if 0 < escolha <= len(modelos_disponiveis) else \"phi4\"\n",
    "print(f\"\\n✅ Modelo selecionado: {modelo_escolhido}\")\n",
    "\n",
    "# Histórico de chat inicial\n",
    "chat_history = [\n",
    "    AIMessage(content=\"Olá, eu sou seu Coca: seu agent inteligente! Como posso ajudar você hoje?\")\n",
    "]\n",
    "\n",
    "# Exemplo de interação\n",
    "user_query = \"Pode ligar as luzes da sala, por favor?\"\n",
    "chat_history.append(HumanMessage(content=user_query))\n",
    "\n",
    "# Gerar resposta\n",
    "response = model_response(user_query, chat_history, modelo_escolhido)\n",
    "\n",
    "# Exibir resultado\n",
    "print(\"\\n🤖 IA está processando a resposta...\\n\")\n",
    "print(f\"Assistente: {response}\")\n",
    "\n",
    "# Atualizar histórico de chat\n",
    "chat_history.append(AIMessage(content=response))"
   ]
  }
 ],
 "metadata": {
  "kernelspec": {
   "display_name": "GPU_Toch",
   "language": "python",
   "name": "python3"
  },
  "language_info": {
   "codemirror_mode": {
    "name": "ipython",
    "version": 3
   },
   "file_extension": ".py",
   "mimetype": "text/x-python",
   "name": "python",
   "nbconvert_exporter": "python",
   "pygments_lexer": "ipython3",
   "version": "3.10.15"
  }
 },
 "nbformat": 4,
 "nbformat_minor": 5
}
