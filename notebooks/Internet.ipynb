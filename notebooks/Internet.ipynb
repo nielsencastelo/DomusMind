{
 "cells": [
  {
   "cell_type": "code",
   "execution_count": 1,
   "id": "2fa4ed53",
   "metadata": {},
   "outputs": [],
   "source": [
    "import warnings\n",
    "warnings.filterwarnings(\"ignore\")\n",
    "import sys\n",
    "import os\n",
    "sys.path.append('..') # Sob 2 níveis para apontar o path"
   ]
  },
  {
   "cell_type": "code",
   "execution_count": 2,
   "id": "0e452813",
   "metadata": {},
   "outputs": [
    {
     "name": "stdout",
     "output_type": "stream",
     "text": [
      "🔎 As 10 tecnologias mais importantes de 2025 | Fast Company Brasil\n",
      "https://fastcompanybrasil.com/tech/as-10-tecnologias-mais-importantes-de-2025-segundo-o-forum-economico-mundial/\n",
      "Prever quais inovações realmente transformarão o mundo continua sendo um desafio - e justamente por isso, o Fórum Econômico Mundial (WEF, na sigla em inglês) divulgou esta semana sua lista anual com as 10 principais tecnologias emergentes de 2025.\n",
      "\n",
      "🔎 8 tecnologias emergentes que vão revolucionar o mundo em 2025\n",
      "https://engenharia360.com/tendencias-tecnologicas-para-2025/\n",
      "A cada ano, novas tecnologias moldam o futuro, redefinindo o modo como vivemos e trabalhamos. Para 2025, especialistas apontam que diversas inovações emergentes trarão impactos significativos em setores como saúde, energia, mobilidade e comunicação.\n",
      "\n",
      "🔎 10 tecnologias emergentes e seu impacto em 2025\n",
      "https://london-data-consulting.com/pt/10-tecnologias-emergentes-e-seu-impacto-em-2025/\n",
      "À medida que nos aproximamos de 2025, o cenário tecnológico está pronto para mudanças transformadoras que redefinirão as indústrias e influenciarão a vida diária. Este artigo explora dez principais tecnologias emergentes e seu impacto potencial em vários setores. 1. IA generativa.\n",
      "\n",
      "🔎 Do laboratório para o mundo: as 10 inovações que prometem sacudir 2025\n",
      "https://epocanegocios.globo.com/tecnologia/noticia/2025/06/do-laboratorio-para-o-mundo-as-10-inovacoes-que-prometem-sacudir-2025.ghtml\n",
      "É o que aponta o relatório \"As 10 Principais Tecnologias Emergentes de 2025\", desenvolvido pelo Fórum Econômico Mundial (WEF) em parceria com a editora científica Frontiers.\n",
      "\n",
      "🔎 As 10 Tecnologias Emergentes de 2025 Segundo o World Economic Forum\n",
      "https://marcasemaccao.com/2025/06/26/as-10-tecnologias-emergentes-para-2025/\n",
      "As organizações interessadas nestas tecnologias devem avaliar cuidadosamente os riscos e oportunidades, considerando que a maioria das inovações emergentes enfrenta obstáculos significativos na transição para aplicações comerciais viáveis.\n",
      "\n"
     ]
    }
   ],
   "source": [
    "from app.agents.search_agent import SearchAgent\n",
    "\n",
    "search_agent = SearchAgent()\n",
    "results = search_agent.search(\"tecnologias emergentes em 2025\")\n",
    "\n",
    "for r in results:\n",
    "    print(\"🔎\", r[\"title\"])\n",
    "    print(r[\"href\"])\n",
    "    print(r[\"body\"])\n",
    "    print()"
   ]
  }
 ],
 "metadata": {
  "kernelspec": {
   "display_name": "GPU_Toch",
   "language": "python",
   "name": "python3"
  },
  "language_info": {
   "codemirror_mode": {
    "name": "ipython",
    "version": 3
   },
   "file_extension": ".py",
   "mimetype": "text/x-python",
   "name": "python",
   "nbconvert_exporter": "python",
   "pygments_lexer": "ipython3",
   "version": "3.10.15"
  }
 },
 "nbformat": 4,
 "nbformat_minor": 5
}
